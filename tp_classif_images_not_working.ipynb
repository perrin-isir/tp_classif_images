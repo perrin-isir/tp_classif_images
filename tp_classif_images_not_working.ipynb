{
 "cells": [
  {
   "cell_type": "markdown",
   "metadata": {},
   "source": [
    "<a href=\"https://colab.research.google.com/github/perrin-isir/tp_classif_images/blob/main/tp_classif_images.ipynb\"> <img align=\"left\" src=\"https://colab.research.google.com/assets/colab-badge.svg\" alt=\"Open in Colab\" title=\"Open in Google Colaboratory\"></a>\n",
    "<a id=\"raw-url\" href=\"https://raw.githubusercontent.com/perrin-isir/tp_classif_images/main/tp_classif_images.ipynb\" download> <img align=\"left\" src=\"https://img.shields.io/badge/Github-Download%20(Right%20click%20%2B%20Save%20link%20as...)-blue\" alt=\"Download (Right click + Save link as)\" title=\"Download Notebook\"></a>"
   ]
  },
  {
   "cell_type": "code",
   "execution_count": null,
   "metadata": {},
   "outputs": [],
   "source": [
    "import torch\n",
    "import torch.nn as nn\n",
    "import torch.nn.functional as F\n",
    "from torch import optim\n",
    "# from torch.autograd import Variable\n",
    "import torchvision.transforms as transforms\n",
    "device = torch.device(\"cpu\")\n",
    "!pip install deeplake[enterprise]\n",
    "import deeplake\n",
    "ds = deeplake.load('hub://activeloop/cacd')"
   ]
  },
  {
   "cell_type": "code",
   "execution_count": null,
   "metadata": {},
   "outputs": [],
   "source": [
    "import os\n",
    "tmp_dir = os.path.join(os.path.expanduser(\"~\"), \"tmp_data\")\n",
    "!wget -P {tmp_dir} \"http://www.umiacs.umd.edu/~sirius/CACD/celebrity2000_meta.mat\"\n",
    "import scipy.io\n",
    "mat = scipy.io.loadmat(os.path.join(os.path.expanduser(\"~\"), \"tmp_data\", \"celebrity2000_meta.mat\"))\n",
    "estimated_ages = mat[\"celebrityImageData\"][0, 0][0].flatten()\n",
    "age_threshold = 35"
   ]
  },
  {
   "cell_type": "code",
   "execution_count": null,
   "metadata": {},
   "outputs": [],
   "source": [
    "class Net(nn.Module):\n",
    "    def __init__(self):\n",
    "        super(Net, self).__init__()\n",
    "        self.conv1 = nn.Conv2d(3, 32, 3, 1)\n",
    "        self.conv2 = nn.Conv2d(32, 64, 3, 1)\n",
    "        self.dropout1 = nn.Dropout2d(0.25)\n",
    "        self.dropout2 = nn.Dropout2d(0.25)\n",
    "        self.dropout3 = nn.Dropout2d(0.5)\n",
    "        self.fc1 = nn.Linear(((((75-2)//2-2)//2)**2)*64, 256)\n",
    "        self.fc2 = nn.Linear(256, 128)\n",
    "        self.fc3 = nn.Linear(128, 2)\n",
    "\n",
    "    def forward(self, x):\n",
    "        x = F.relu(self.conv1(x.view(-1, 3, 75, 75)))\n",
    "        x = self.dropout1(F.max_pool2d(x, 2))\n",
    "        x = F.relu(self.conv2(x))\n",
    "        x = self.dropout2(F.max_pool2d(x, 2))\n",
    "        x = torch.flatten(x, 1)\n",
    "        x = self.dropout3(F.relu(self.fc1(x)))\n",
    "        x = self.fc2(x)\n",
    "        x = self.fc3(x)\n",
    "        return x\n",
    "\n",
    "\n",
    "net = Net().to(device)"
   ]
  },
  {
   "cell_type": "code",
   "execution_count": null,
   "metadata": {},
   "outputs": [],
   "source": [
    "transform = transforms.Compose([\n",
    "    transforms.ToTensor(),\n",
    "    transforms.Lambda(lambda x: x.to(device)),\n",
    "    transforms.Resize(100),\n",
    "    transforms.RandomCrop(75, padding=4),\n",
    "    transforms.RandomHorizontalFlip(),\n",
    "    transforms.Normalize((0.4914, 0.4822, 0.4465), (0.2023, 0.1994, 0.2010)),\n",
    "])\n",
    "\n",
    "transform_no_modif = transforms.Compose([\n",
    "    transforms.ToTensor(),\n",
    "    transforms.Lambda(lambda x: x.to(device)),\n",
    "])"
   ]
  },
  {
   "cell_type": "code",
   "execution_count": null,
   "metadata": {},
   "outputs": [],
   "source": [
    "import matplotlib.pyplot as plt\n",
    "import numpy as np\n",
    "# Plotting tool\n",
    "\n",
    "def plotdata(data, indexes, model=None, original=True):\n",
    "    l = []\n",
    "    l_original = []\n",
    "    for elt in indexes:\n",
    "        t = transform(data.images[elt].numpy())\n",
    "        l.append(t)\n",
    "        tbis = transform_no_modif(data.images[elt].numpy())\n",
    "        l_original.append(tbis)\n",
    "    cte = 30.0/9.0\n",
    "    k = len(l)\n",
    "    n = int(np.sqrt(cte * k))\n",
    "    m = int(k/(n * 1.0))\n",
    "    if (n*m<k):\n",
    "        m = m+1\n",
    "    width=20\n",
    "    mult = 2\n",
    "    if model is None:\n",
    "        mult = 1\n",
    "    f, ax = plt.subplots(mult*m,n,squeeze=False, figsize=(width,int(width*m/(n*2.0))))\n",
    "    for i in range(m):\n",
    "        if model is not None:\n",
    "            for j in range(n):\n",
    "                if(j+n*i < k):\n",
    "                    ax[mult*i+1,j].tick_params(axis=u'both', which=u'both',length=0)\n",
    "                    ax[mult*i+1,j].set_ylim([-0.5,10.5])\n",
    "                    ax[mult*i+1,j].set_xlim([-1.5,12.5])\n",
    "                    ax[mult*i+1,j].set_xticks([])\n",
    "                    ax[mult*i+1,j].set_xticks(np.arange(0.5,9.5,1), minor=True)\n",
    "                    ax[mult*i+1,j].set_yticks([])\n",
    "                    ax[mult*i+1,j].grid(False)\n",
    "                    ax[mult*i+1,j].set_aspect('equal')\n",
    "                    L = F.softmax(model(l[j+n*i]), dim=1).cpu().data.numpy().flatten()\n",
    "                    C = [(0.9, 0.1, 0.0, 1.0), (0.0, 0.1, 0.9, 1.0)]\n",
    "                    ax[mult*i+1,j].barh([1,5], [z * 10.0 for z in reversed(L)], color=C)\n",
    "                    for idx in range(len(L)):\n",
    "                        if L[idx]>0.02:\n",
    "                            ax[mult*i+1,j].text(10.0*L[idx]+0.15,(len(L)-1-idx+0.1)*4.0,idx)\n",
    "                else:\n",
    "                    ax[mult*i+1,j].axis('off')\n",
    "        # ------------------\n",
    "        for j in range(n):\n",
    "            if(j+n*i < k):\n",
    "                ax[mult*i+0,j].tick_params(axis=u'both', which=u'both',length=0)\n",
    "                ax[mult*i+0,j].set_xticks([])\n",
    "                ax[mult*i+0,j].set_yticks([])\n",
    "                ax[mult*i+0,j].grid(False)\n",
    "                ax[mult*i+0,j].set_xticklabels([])\n",
    "                ax[mult*i+0,j].set_yticklabels([])\n",
    "                img = None\n",
    "                if original:\n",
    "                    img = l_original[j + n * i]\n",
    "                else:\n",
    "                    img = l[j + n * i]\n",
    "                if img.shape[0] == 3:\n",
    "                    N = img[:, :, :]\n",
    "                    # from IPython import embed\n",
    "                    # embed()\n",
    "                    ax[mult * i + 0, j].imshow(\n",
    "                        N.permute(1, 2, 0),\n",
    "                    )\n",
    "                else:\n",
    "                    N = img[0, :, :]\n",
    "                    ax[mult*i+0,j].matshow(N, cmap='Greys', )\n",
    "            else:\n",
    "                ax[mult*i+0,j].axis('off')\n",
    "    plt.show()"
   ]
  },
  {
   "cell_type": "code",
   "execution_count": null,
   "metadata": {},
   "outputs": [],
   "source": [
    "net(transform(ds1.images[0].numpy()))"
   ]
  },
  {
   "cell_type": "code",
   "execution_count": null,
   "metadata": {},
   "outputs": [],
   "source": [
    "train_ds, test_ds, trash_ds = ds.random_split(\n",
    "    [20000, 2000, len(ds) - 22000]\n",
    ")"
   ]
  },
  {
   "cell_type": "code",
   "execution_count": null,
   "metadata": {},
   "outputs": [],
   "source": [
    "train_dataloader = train_ds.dataloader()\\\n",
    "    .transform({'images': transform, 'keypoints': None, \"index\": None})\\\n",
    "    .batch(40)\\\n",
    "    .shuffle()\\\n",
    "    .pytorch(decode_method={'images': 'pil'})\n",
    "\n",
    "test_dataloader = test_ds.dataloader()\\\n",
    "    .transform({'images': transform, 'keypoints': None, \"index\": None})\\\n",
    "    .batch(100)\\\n",
    "    .shuffle()\\\n",
    "    .pytorch(decode_method={'images': 'pil'}) "
   ]
  },
  {
   "cell_type": "code",
   "execution_count": null,
   "metadata": {},
   "outputs": [],
   "source": [
    "# evaluation on a batch of test data:\n",
    "def evaluate(model, dataloader):\n",
    "    batch_enum = enumerate(dataloader)\n",
    "    batch_idx, testdata = next(batch_enum)\n",
    "    indices = testdata[\"index\"].flatten()\n",
    "    testdata = testdata[\"images\"]\n",
    "    testtargets = torch.Tensor(estimated_ages[indices] > age_threshold).long().to(device)\n",
    "    model = model.eval()\n",
    "    outp = torch.argmax(model(testdata), dim=1)\n",
    "    t = torch.sum(outp == testtargets)\n",
    "    result = t * 100.0 / len(indices)\n",
    "    model = model.train()\n",
    "    print(f\"{t} correct on {len(indices)} ({result.item()} %)\")\n",
    "    return result.item()"
   ]
  },
  {
   "cell_type": "code",
   "execution_count": null,
   "metadata": {},
   "outputs": [],
   "source": [
    "evaluate(net, test_dataloader)"
   ]
  },
  {
   "cell_type": "code",
   "execution_count": null,
   "metadata": {},
   "outputs": [],
   "source": [
    "# iteratively train on 50 batches:\n",
    "def train_epoch(model, optimizer, dataloader):\n",
    "    batch_enum = enumerate(dataloader)\n",
    "    for i_count in range(50):\n",
    "        batch_idx, traindata = next(batch_enum)\n",
    "        indices = traindata[\"index\"].flatten()\n",
    "        traindata = traindata[\"images\"]\n",
    "        traintargets = torch.Tensor(estimated_ages[indices] > age_threshold).long().to(device)\n",
    "        outp = model(traindata)\n",
    "        loss = F.cross_entropy(outp, traintargets)\n",
    "        optimizer.zero_grad()\n",
    "        loss.backward()\n",
    "        optimizer.step()\n",
    "        if not i_count % 10:\n",
    "            print(f\"    step {i_count}\")"
   ]
  },
  {
   "cell_type": "code",
   "execution_count": null,
   "metadata": {},
   "outputs": [],
   "source": [
    "learning_rate = 0.01\n",
    "momentum = 0.5\n",
    "optimizer = torch.optim.SGD(net.parameters(), lr=learning_rate, momentum=momentum)"
   ]
  },
  {
   "cell_type": "code",
   "execution_count": null,
   "metadata": {},
   "outputs": [],
   "source": [
    "train_epoch(net, optimizer, train_dataloader)"
   ]
  },
  {
   "cell_type": "code",
   "execution_count": null,
   "metadata": {},
   "outputs": [],
   "source": [
    "num_epochs = 1\n",
    "for j in range(num_epochs):\n",
    "    print(f\"epoch {j} / {num_epochs}\")\n",
    "    train_epoch(net, optimizer, data)\n",
    "    evaluate(net, data)\n",
    "    torch.save(net.state_dict(), './data/model_TP.pt')"
   ]
  },
  {
   "cell_type": "code",
   "execution_count": null,
   "metadata": {},
   "outputs": [],
   "source": [
    "indices = np.random.choice(range(data.num_test_samples),4 )"
   ]
  },
  {
   "cell_type": "code",
   "execution_count": null,
   "metadata": {},
   "outputs": [],
   "source": [
    "plotdata(data, indices, net, original=False)"
   ]
  },
  {
   "cell_type": "code",
   "execution_count": null,
   "metadata": {},
   "outputs": [],
   "source": []
  }
 ],
 "metadata": {
  "kernelspec": {
   "display_name": "Python 3 (ipykernel)",
   "language": "python",
   "name": "python3"
  },
  "language_info": {
   "codemirror_mode": {
    "name": "ipython",
    "version": 3
   },
   "file_extension": ".py",
   "mimetype": "text/x-python",
   "name": "python",
   "nbconvert_exporter": "python",
   "pygments_lexer": "ipython3",
   "version": "3.9.9"
  }
 },
 "nbformat": 4,
 "nbformat_minor": 4
}
